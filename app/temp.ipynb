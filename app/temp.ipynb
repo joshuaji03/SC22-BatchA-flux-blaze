{
 "cells": [
  {
   "cell_type": "code",
   "execution_count": 1,
   "metadata": {
    "collapsed": false
   },
   "outputs": [
   ],
   "source": [
    "from flask import send_from_directory\n",
    "from flask import Flask, flash, request, redirect, url_for\n",
    "from werkzeug.utils import secure_filename\n",
    "from flask import render_template\n",
    "from url_utils import get_base_url\n",
    "import os\n",
    "import torch"
   ]
  },
  {
   "cell_type": "code",
   "execution_count": 6,
   "metadata": {
    "collapsed": false
   },
   "outputs": [
   ],
   "source": [
    "def uploaded_file(filename):\n",
    "    here = os.getcwd()\n",
    "    #image_path = os.path.join(here, app.config['UPLOAD_FOLDER'], filename)\n",
    "    results = model(image_path, size=416)\n",
    "    \n",
    "    ###############\n",
    "\n",
    "    \n",
    "    ##############\n",
    "    \n",
    "    if len(results.pandas().xyxy) > 0:\n",
    "        results.print()\n",
    "        #save_dir = os.path.join(here, app.config['UPLOAD_FOLDER'])\n",
    "        results.save(save_dir=save_dir)\n",
    "        def and_syntax(alist):\n",
    "            if len(alist) == 1:\n",
    "                alist = \"\".join(alist)\n",
    "                return alist\n",
    "            elif len(alist) == 2:\n",
    "                alist = \" and \".join(alist)\n",
    "                return alist\n",
    "            elif len(alist) > 2:\n",
    "                alist[-1] = \"and \" + alist[-1]\n",
    "                alist = \", \".join(alist)\n",
    "                return alist\n",
    "            else:\n",
    "                return\n",
    "        confidences = list(results.pandas().xyxy[0]['confidence'])\n",
    "        # confidences: rounding and changing to percent, putting in function\n",
    "        format_confidences = []\n",
    "        for percent in confidences:\n",
    "            format_confidences.append(str(round(percent*100)) + '%')\n",
    "        format_confidences = and_syntax(format_confidences)\n",
    "\n",
    "        labels = list(results.pandas().xyxy[0]['name'])\n",
    "        # labels: sorting and capitalizing, putting into function\n",
    "        labels = set(labels)\n",
    "        labels = [emotion.capitalize() for emotion in labels]\n",
    "        labels = and_syntax(labels)\n",
    "        return render_template('results.html', confidences=format_confidences, labels=labels,\n",
    "                               old_filename=filename,\n",
    "                               filename=filename)\n",
    "    else:\n",
    "        found = False\n",
    "        return render_template('results.html', labels='No Style', old_filename=filename, filename=filename)"
   ]
  },
  {
   "cell_type": "code",
   "execution_count": 0,
   "metadata": {
    "collapsed": false
   },
   "outputs": [
   ],
   "source": [
   ]
  },
  {
   "cell_type": "code",
   "execution_count": 7,
   "metadata": {
    "collapsed": false
   },
   "outputs": [
    {
     "ename": "NameError",
     "evalue": "name 'model' is not defined",
     "output_type": "error",
     "traceback": [
      "\u001b[0;31m---------------------------------------------------------------------------\u001b[0m",
      "\u001b[0;31mNameError\u001b[0m                                 Traceback (most recent call last)",
      "Input \u001b[0;32mIn [7]\u001b[0m, in \u001b[0;36m<cell line: 1>\u001b[0;34m()\u001b[0m\n\u001b[0;32m----> 1\u001b[0m \u001b[43muploaded_file\u001b[49m\u001b[43m(\u001b[49m\u001b[38;5;124;43m\"\u001b[39;49m\u001b[38;5;124;43m/static/uploads/58e6377559ca7a2749bec0428bbb9640.jpg\u001b[39;49m\u001b[38;5;124;43m\"\u001b[39;49m\u001b[43m)\u001b[49m\n",
      "Input \u001b[0;32mIn [6]\u001b[0m, in \u001b[0;36muploaded_file\u001b[0;34m(filename)\u001b[0m\n\u001b[1;32m      2\u001b[0m here \u001b[38;5;241m=\u001b[39m os\u001b[38;5;241m.\u001b[39mgetcwd()\n\u001b[1;32m      3\u001b[0m \u001b[38;5;66;03m#image_path = os.path.join(here, app.config['UPLOAD_FOLDER'], filename)\u001b[39;00m\n\u001b[0;32m----> 4\u001b[0m results \u001b[38;5;241m=\u001b[39m \u001b[43mmodel\u001b[49m(image_path, size\u001b[38;5;241m=\u001b[39m\u001b[38;5;241m416\u001b[39m)\n\u001b[1;32m      6\u001b[0m \u001b[38;5;66;03m###############\u001b[39;00m\n\u001b[1;32m      7\u001b[0m \n\u001b[1;32m      8\u001b[0m \n\u001b[1;32m      9\u001b[0m \u001b[38;5;66;03m##############\u001b[39;00m\n\u001b[1;32m     11\u001b[0m \u001b[38;5;28;01mif\u001b[39;00m \u001b[38;5;28mlen\u001b[39m(results\u001b[38;5;241m.\u001b[39mpandas()\u001b[38;5;241m.\u001b[39mxyxy) \u001b[38;5;241m>\u001b[39m \u001b[38;5;241m0\u001b[39m:\n",
      "\u001b[0;31mNameError\u001b[0m: name 'model' is not defined"
     ]
    }
   ],
   "source": [
    "uploaded_file(\"/static/uploads/58e6377559ca7a2749bec0428bbb9640.jpg\")"
   ]
  },
  {
   "cell_type": "code",
   "execution_count": 0,
   "metadata": {
    "collapsed": false
   },
   "outputs": [
   ],
   "source": [
   ]
  },
  {
   "cell_type": "code",
   "execution_count": 0,
   "metadata": {
    "collapsed": false
   },
   "outputs": [
   ],
   "source": [
   ]
  },
  {
   "cell_type": "code",
   "execution_count": 0,
   "metadata": {
    "collapsed": false
   },
   "outputs": [
   ],
   "source": [
   ]
  },
  {
   "cell_type": "code",
   "execution_count": 0,
   "metadata": {
    "collapsed": false
   },
   "outputs": [
   ],
   "source": [
   ]
  },
  {
   "cell_type": "code",
   "execution_count": 0,
   "metadata": {
    "collapsed": false
   },
   "outputs": [
   ],
   "source": [
   ]
  }
 ],
 "metadata": {
  "kernelspec": {
   "display_name": "Python (cv_env)",
   "language": "python",
   "metadata": {
    "debugger": true
   },
   "name": "cv_env",
   "resource_dir": "/projects/e89c6e84-54ea-4ed6-87f1-06b0869e0aa5/.local/share/jupyter/kernels/cv_env"
  },
  "language_info": {
   "codemirror_mode": {
    "name": "ipython",
    "version": 3
   },
   "file_extension": ".py",
   "mimetype": "text/x-python",
   "name": "python",
   "nbconvert_exporter": "python",
   "pygments_lexer": "ipython3",
   "version": "3.8.13"
  }
 },
 "nbformat": 4,
 "nbformat_minor": 4
}